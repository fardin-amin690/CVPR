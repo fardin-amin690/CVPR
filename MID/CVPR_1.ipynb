{
  "metadata": {
    "kernelspec": {
      "name": "python",
      "display_name": "Python (Pyodide)",
      "language": "python"
    },
    "language_info": {
      "codemirror_mode": {
        "name": "python",
        "version": 3
      },
      "file_extension": ".py",
      "mimetype": "text/x-python",
      "name": "python",
      "nbconvert_exporter": "python",
      "pygments_lexer": "ipython3",
      "version": "3.8"
    }
  },
  "nbformat_minor": 4,
  "nbformat": 4,
  "cells": [
    {
      "cell_type": "code",
      "source": "nums = list(range(1, 11))\n#print the numbers\nprint(nums)",
      "metadata": {
        "trusted": true
      },
      "outputs": [],
      "execution_count": null
    },
    {
      "cell_type": "code",
      "source": "nums = [i for i in range(1, 11)]\n#calculate the square of numbers\nsquared_nums = [i ** 2 for i in nums]\n#print those numbers\nprint(squared_nums)",
      "metadata": {
        "trusted": true
      },
      "outputs": [],
      "execution_count": null
    },
    {
      "cell_type": "code",
      "source": "nums = [i for i in range(1, 11)]\n#calculate the sum of all elements in the list\nsum_nums = sum(nums)\n\n#print the sum\nprint(\"The sum of all elements in the list is:\", sum_nums)\n",
      "metadata": {
        "trusted": true
      },
      "outputs": [],
      "execution_count": null
    },
    {
      "cell_type": "code",
      "source": "#create a list containing the first five even numbers\neven_nums = [num for num in range(2, 12, 2)]  # start from 2, increment by 2, stop before 12\n#convert the list to a tuple\neven_nums_tuple = tuple(even_nums)\n\n# Print the tuple\nprint(even_nums_tuple)",
      "metadata": {
        "trusted": true,
        "scrolled": true
      },
      "outputs": [
        {
          "name": "stdout",
          "text": "(2, 4, 6, 8, 10)\n",
          "output_type": "stream"
        }
      ],
      "execution_count": 6
    },
    {
      "cell_type": "code",
      "source": "from functools import reduce\n\n# tuple containing the first five even numbers\neven_numbers_tuple = (2, 4, 6, 8, 10)\n\n#calculate the product using reduce\nproduct = reduce(lambda x, y: x * y, even_numbers_tuple)\n\nprint(\"The product of all elements in the tuple is:\", product)\n\n",
      "metadata": {
        "trusted": true
      },
      "outputs": [
        {
          "name": "stdout",
          "text": "The product of all elements in the tuple is: 3840\n",
          "output_type": "stream"
        }
      ],
      "execution_count": 13
    },
    {
      "cell_type": "code",
      "source": "#create a set containing odd numbers between 1 to 10\nodd_nums_set1 = {num for num in range(1, 11) if num % 2 != 0}\n\n#create another set containing odd numbers between 1 to 10\nodd_nums_set2 = {num for num in range(1, 11, 2)}\n\nprint(\"Set 1 of odd numbers:\", odd_nums_set1)\nprint(\"Set 2 of odd numbers:\", odd_nums_set2)\n",
      "metadata": {
        "trusted": true
      },
      "outputs": [
        {
          "name": "stdout",
          "text": "Set 1 of odd numbers: {1, 3, 5, 7, 9}\nSet 2 of odd numbers: {1, 3, 5, 7, 9}\n",
          "output_type": "stream"
        }
      ],
      "execution_count": 17
    },
    {
      "cell_type": "code",
      "source": "odd_numbers_set1 = {1, 3, 5, 7, 9}\nodd_numbers_set2 = {1, 3, 5, 7, 11}\n\nzipped_sets = zip(odd_numbers_set1, odd_numbers_set2)\n\nfor pair in zipped_sets:\n    print(pair)\n",
      "metadata": {
        "trusted": true
      },
      "outputs": [
        {
          "name": "stdout",
          "text": "(1, 1)\n(3, 3)\n(5, 5)\n(7, 7)\n(9, 11)\n",
          "output_type": "stream"
        }
      ],
      "execution_count": 19
    },
    {
      "cell_type": "code",
      "source": "odd_numbers_set1 = {1, 3, 5, 7, 9}\nodd_numbers_set2 = {1, 3, 5, 7, 11}\n\n# Find the intersection of the two sets\nintersection_set = odd_numbers_set1.intersection(odd_numbers_set2)\nprint(\"Intersection of the two sets:\", intersection_set)\n",
      "metadata": {
        "trusted": true
      },
      "outputs": [
        {
          "name": "stdout",
          "text": "Intersection of the two sets: {1, 3, 5, 7}\n",
          "output_type": "stream"
        }
      ],
      "execution_count": 20
    },
    {
      "cell_type": "code",
      "source": "",
      "metadata": {
        "trusted": true
      },
      "outputs": [],
      "execution_count": null
    }
  ]
}